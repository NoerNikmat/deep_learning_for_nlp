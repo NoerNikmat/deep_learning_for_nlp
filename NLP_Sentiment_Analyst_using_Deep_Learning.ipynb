{
  "nbformat": 4,
  "nbformat_minor": 0,
  "metadata": {
    "colab": {
      "name": "NLP_Sentiment_Analyst_using_Deep_Learning.ipynb",
      "provenance": [],
      "collapsed_sections": [
        "FanxbXRT4kl1",
        "eg4N24_d7IKq"
      ],
      "toc_visible": true,
      "authorship_tag": "ABX9TyPokOYRmb/BTsqGwX6htwEi",
      "include_colab_link": true
    },
    "kernelspec": {
      "display_name": "Python 3",
      "name": "python3"
    },
    "accelerator": "TPU"
  },
  "cells": [
    {
      "cell_type": "markdown",
      "metadata": {
        "id": "view-in-github",
        "colab_type": "text"
      },
      "source": [
        "<a href=\"https://colab.research.google.com/github/NoerNikmat/deep_learning_for_nlp/blob/main/NLP_Sentiment_Analyst_using_Deep_Learning.ipynb\" target=\"_parent\"><img src=\"https://colab.research.google.com/assets/colab-badge.svg\" alt=\"Open In Colab\"/></a>"
      ]
    },
    {
      "cell_type": "markdown",
      "metadata": {
        "id": "45p5-zLc03hj"
      },
      "source": [
        "## **About Dataset**\n"
      ]
    },
    {
      "cell_type": "markdown",
      "metadata": {
        "id": "an5ri2r72Ul3"
      },
      "source": [
        "### Description"
      ]
    },
    {
      "cell_type": "markdown",
      "metadata": {
        "id": "_1sppU8_2s6Q"
      },
      "source": [
        "**Women's E-Commerce Clothing Reviews on Kaggle**\n",
        "\n",
        "---\n",
        "\n",
        "***Link Dataset***: \n",
        "\n",
        "https://www.kaggle.com/nicapotato/womens-ecommerce-clothing-reviews\n",
        "\n",
        "\n",
        "***Context***\n",
        "\n",
        "Welcome. This is a Women’s Clothing E-Commerce dataset revolving around the reviews written by customers. Its nine supportive features offer a great environment to parse out the text through its multiple dimensions. Because this is real commercial data, it has been anonymized, and references to the company in the review text and body have been replaced with “retailer”.\n",
        "\n",
        "\n",
        "\n",
        "***Content***\n",
        "\n",
        "This dataset includes **23486 rows** and **10 feature variables**. Each row corresponds to a customer review, and includes the variables:\n",
        "\n",
        "- **Clothing ID**: Integer Categorical variable that refers to the specific piece \n",
        "being reviewed.\n",
        "- **Age**: Positive Integer variable of the reviewers age.\n",
        "- **Title**: String variable for the title of the review.\n",
        "- **Review** Text: String variable for the review body.\n",
        "- **Rating**: Positive Ordinal Integer variable for the product score granted by the customer from 1 Worst, to 5 Best.\n",
        "- **Recommended** IND: Binary variable stating where the customer recommends the product where 1 is recommended, 0 is not recommended.\n",
        "- **Positive Feedback Count**: Positive Integer documenting the number of other customers who found this review positive.\n",
        "- **Division Name**: Categorical name of the product high level division.\n",
        "- **Department Name**: Categorical name of the product department name.\n",
        "- **Class Name**: Categorical name of the product class name.\n",
        "\n",
        "\n",
        "***Acknowledgements***\n",
        "\n",
        "Anonymous but real source\n",
        "\n",
        "\n",
        "***Inspiration***\n",
        "\n",
        "Nicapotato, an owner of dataset Women's E-Commerce Clothing Reviews that looks forward to coming quality NLP! There are also some great opportunities for feature engineering and multivariate analysis.\n",
        "\n",
        "***Publication***\n",
        "\n",
        "[Statistical Analysis on E-Commerce Reviews, with Sentiment Classification using Bidirectional Recurrent Neural Network](https://www.researchgate.net/publication/323545316_Statistical_Analysis_on_E-Commerce_Reviews_with_Sentiment_Classification_using_Bidirectional_Recurrent_Neural_Network)\n",
        "\n",
        "by [Abien Fred Agarap - Github](https://github.com/AFAgarap/ecommerce-reviews-analysis)\n",
        "\n"
      ]
    },
    {
      "cell_type": "markdown",
      "metadata": {
        "id": "FanxbXRT4kl1"
      },
      "source": [
        "### Metadata"
      ]
    },
    {
      "cell_type": "markdown",
      "metadata": {
        "id": "u41GIO504r5A"
      },
      "source": [
        "**Usage Information**\n",
        "\n",
        "---\n",
        "\n",
        "\n",
        "\n",
        "- License [CC0: Public Domain](https://creativecommons.org/publicdomain/zero/1.0/)\n",
        "- Visibility **public**\n",
        "\n",
        "\n",
        "**Maintainers**\n",
        "\n",
        "---\n",
        "\n",
        "\n",
        "\n",
        "- Dataset owner [nicapotato](https://www.kaggle.com/nicapotato)\n",
        "\n",
        "**Updates**\n",
        "\n",
        "---\n",
        "    \n",
        "    Expected update frequency (Not specified)\n",
        "\n",
        "    Last updated 2018-02-04\n",
        "    Date created 2018-02-04\n",
        "    Current version Version 1"
      ]
    },
    {
      "cell_type": "markdown",
      "metadata": {
        "id": "eg4N24_d7IKq"
      },
      "source": [
        "## **Objectives**"
      ]
    },
    {
      "cell_type": "markdown",
      "metadata": {
        "id": "SpTM4gPy7LWC"
      },
      "source": [
        "**Problem Framing**\n",
        "* How to predict sentiment analysis from Women's E-Commerce Clothing Reviews?\n",
        "\n",
        "\n",
        "**Ideal Outcome**\n",
        "* A success metric is that a sentence can be classified as positive, negative, or neutral as predicted by the model. \n",
        "* Success means predicting >90% for sentiment analysis. \n",
        "* Failure means the number of accuracy sentiment predicted is no better than current heuristics.\n",
        "\n",
        "\n",
        "**Heuristics**\n",
        "* Consider reviews of people who buy products in the past. Assume that new items buyers by these people will also become positive, negative, or neutral critics.\n",
        "\n",
        "**Formulation of the problem**\n",
        "* Comparison of Naive Bayes Model and Support Vector Machine (SVM)"
      ]
    },
    {
      "cell_type": "markdown",
      "metadata": {
        "id": "uTVCEN6GRlol"
      },
      "source": [
        "## **References**"
      ]
    },
    {
      "cell_type": "markdown",
      "metadata": {
        "id": "o3okW06uRsWL"
      },
      "source": [
        "- [Machine Learning Crash Course](https://developers.google.com/machine-learning/crash-course)\r\n",
        "- [Predicting Sentiment from Clothing Reviews](https://www.kaggle.com/burhanykiyakoglu/predicting-sentiment-from-clothing-reviews)\r\n",
        "- Source from the lecturers "
      ]
    },
    {
      "cell_type": "markdown",
      "metadata": {
        "id": "q2Lb5L0X1AFz"
      },
      "source": [
        "## **Programming With Python**"
      ]
    },
    {
      "cell_type": "markdown",
      "metadata": {
        "id": "sIzvlR8eugHp"
      },
      "source": [
        "### **Data Pre-pocessing**"
      ]
    },
    {
      "cell_type": "markdown",
      "metadata": {
        "id": "h1GnvJkO_YfD"
      },
      "source": [
        "**Import Dataset**"
      ]
    },
    {
      "cell_type": "markdown",
      "metadata": {
        "id": "J1EmCY-lucAm"
      },
      "source": [
        "    How to use the Kaggle dataset\r\n",
        "\r\n",
        "        * Login or sign in for your account on the Kaggle website.\r\n",
        "        * Find your dataset, notebook, and other information that you needed.\r\n",
        "        * Make your API file .json from your profile.\r\n",
        "        * Download your API file .json into your local computers."
      ]
    },
    {
      "cell_type": "markdown",
      "metadata": {
        "id": "lpWnnNw7lrC4"
      },
      "source": [
        "Install Kaggle for upload dataset into google colab"
      ]
    },
    {
      "cell_type": "code",
      "metadata": {
        "id": "A8qS9d8YGueG"
      },
      "source": [
        "!pip install -q kaggle"
      ],
      "execution_count": 1,
      "outputs": []
    },
    {
      "cell_type": "markdown",
      "metadata": {
        "id": "KcwZ1Jgzl6zG"
      },
      "source": [
        "Upload Kaggle API key"
      ]
    },
    {
      "cell_type": "code",
      "metadata": {
        "id": "zTNLVQBrG1Yu",
        "colab": {
          "resources": {
            "http://localhost:8080/nbextensions/google.colab/files.js": {
              "data": "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",
              "ok": true,
              "headers": [
                [
                  "content-type",
                  "application/javascript"
                ]
              ],
              "status": 200,
              "status_text": ""
            }
          },
          "base_uri": "https://localhost:8080/",
          "height": 91
        },
        "outputId": "c8166e7d-cbdd-4d21-aa0f-fcc53aafb5bc"
      },
      "source": [
        "from google.colab import files\n",
        "files.upload()"
      ],
      "execution_count": 2,
      "outputs": [
        {
          "output_type": "display_data",
          "data": {
            "text/html": [
              "\n",
              "     <input type=\"file\" id=\"files-6d8c53cd-9048-4497-94c8-ed103badd094\" name=\"files[]\" multiple disabled\n",
              "        style=\"border:none\" />\n",
              "     <output id=\"result-6d8c53cd-9048-4497-94c8-ed103badd094\">\n",
              "      Upload widget is only available when the cell has been executed in the\n",
              "      current browser session. Please rerun this cell to enable.\n",
              "      </output>\n",
              "      <script src=\"/nbextensions/google.colab/files.js\"></script> "
            ],
            "text/plain": [
              "<IPython.core.display.HTML object>"
            ]
          },
          "metadata": {
            "tags": []
          }
        },
        {
          "output_type": "stream",
          "text": [
            "Saving kaggle.json to kaggle.json\n"
          ],
          "name": "stdout"
        },
        {
          "output_type": "execute_result",
          "data": {
            "text/plain": [
              "{'kaggle.json': b'{\"username\":\"noer001\",\"key\":\"5c61dd059665969d566be961b002599c\"}'}"
            ]
          },
          "metadata": {
            "tags": []
          },
          "execution_count": 2
        }
      ]
    },
    {
      "cell_type": "code",
      "metadata": {
        "id": "EJwO8KnqG4Q8"
      },
      "source": [
        "! mkdir ~/.kaggle\n",
        "! cp kaggle.json ~/.kaggle/\n",
        "! chmod 600 ~/.kaggle/kaggle.json"
      ],
      "execution_count": 3,
      "outputs": []
    },
    {
      "cell_type": "markdown",
      "metadata": {
        "id": "40Uof-mEl_ti"
      },
      "source": [
        "Download dataset from Kaggle"
      ]
    },
    {
      "cell_type": "code",
      "metadata": {
        "id": "aM7pioz6G9DM",
        "colab": {
          "base_uri": "https://localhost:8080/"
        },
        "outputId": "fed5e4d8-4b46-4d8a-a4a9-2c5077d7e200"
      },
      "source": [
        "! kaggle datasets download -d 'nicapotato/womens-ecommerce-clothing-reviews/download'  "
      ],
      "execution_count": 4,
      "outputs": [
        {
          "output_type": "stream",
          "text": [
            "Downloading womens-ecommerce-clothing-reviews.zip to /content\n",
            "\r  0% 0.00/2.79M [00:00<?, ?B/s]\n",
            "\r100% 2.79M/2.79M [00:00<00:00, 45.9MB/s]\n"
          ],
          "name": "stdout"
        }
      ]
    },
    {
      "cell_type": "code",
      "metadata": {
        "id": "uss2ztzLHDIl",
        "colab": {
          "base_uri": "https://localhost:8080/"
        },
        "outputId": "2382f9d4-04ab-4524-c09d-6b7a9b193365"
      },
      "source": [
        "!ls"
      ],
      "execution_count": 5,
      "outputs": [
        {
          "output_type": "stream",
          "text": [
            "kaggle.json  sample_data  womens-ecommerce-clothing-reviews.zip\n"
          ],
          "name": "stdout"
        }
      ]
    },
    {
      "cell_type": "code",
      "metadata": {
        "id": "GXSoij3tHI1J"
      },
      "source": [
        "!unzip -q womens-ecommerce-clothing-reviews.zip"
      ],
      "execution_count": 6,
      "outputs": []
    },
    {
      "cell_type": "code",
      "metadata": {
        "id": "D4C8XBJiHMN8",
        "colab": {
          "base_uri": "https://localhost:8080/"
        },
        "outputId": "db3f81b4-f8cf-4e69-a912-884c9e31ddf6"
      },
      "source": [
        "!ls"
      ],
      "execution_count": 7,
      "outputs": [
        {
          "output_type": "stream",
          "text": [
            " kaggle.json  'Womens Clothing E-Commerce Reviews.csv'\n",
            " sample_data   womens-ecommerce-clothing-reviews.zip\n"
          ],
          "name": "stdout"
        }
      ]
    },
    {
      "cell_type": "markdown",
      "metadata": {
        "id": "VzOFENO-wW0Z"
      },
      "source": [
        "**Import Libraries**"
      ]
    },
    {
      "cell_type": "code",
      "metadata": {
        "id": "Et0jprjWHWm2",
        "colab": {
          "base_uri": "https://localhost:8080/"
        },
        "outputId": "38a11d7f-de38-4caf-b96b-c46a42c356b3"
      },
      "source": [
        "import nltk\n",
        "import numpy as np\n",
        "import pandas as pd\n",
        "import seaborn as sns\n",
        "import matplotlib.pyplot as plt\n",
        "\n",
        "from nltk.corpus import stopwords\n",
        "from nltk.tokenize import RegexpTokenizer\n",
        "from nltk.stem.porter import PorterStemmer\n",
        "from keras.preprocessing.text import Tokenizer\n",
        "from keras.preprocessing.sequence import pad_sequences\n",
        "from nltk.sentiment.vader import SentimentIntensityAnalyzer"
      ],
      "execution_count": 8,
      "outputs": [
        {
          "output_type": "stream",
          "text": [
            "/usr/local/lib/python3.6/dist-packages/nltk/twitter/__init__.py:20: UserWarning: The twython library has not been installed. Some functionality from the twitter package will not be available.\n",
            "  warnings.warn(\"The twython library has not been installed. \"\n"
          ],
          "name": "stderr"
        }
      ]
    },
    {
      "cell_type": "code",
      "metadata": {
        "id": "8EjUO2osHkFI",
        "colab": {
          "base_uri": "https://localhost:8080/",
          "height": 585
        },
        "outputId": "0177b8da-531a-4cea-e190-c92e593f475f"
      },
      "source": [
        "woman = pd.read_csv('Womens Clothing E-Commerce Reviews.csv')\n",
        "woman"
      ],
      "execution_count": 9,
      "outputs": [
        {
          "output_type": "execute_result",
          "data": {
            "text/html": [
              "<div>\n",
              "<style scoped>\n",
              "    .dataframe tbody tr th:only-of-type {\n",
              "        vertical-align: middle;\n",
              "    }\n",
              "\n",
              "    .dataframe tbody tr th {\n",
              "        vertical-align: top;\n",
              "    }\n",
              "\n",
              "    .dataframe thead th {\n",
              "        text-align: right;\n",
              "    }\n",
              "</style>\n",
              "<table border=\"1\" class=\"dataframe\">\n",
              "  <thead>\n",
              "    <tr style=\"text-align: right;\">\n",
              "      <th></th>\n",
              "      <th>Unnamed: 0</th>\n",
              "      <th>Clothing ID</th>\n",
              "      <th>Age</th>\n",
              "      <th>Title</th>\n",
              "      <th>Review Text</th>\n",
              "      <th>Rating</th>\n",
              "      <th>Recommended IND</th>\n",
              "      <th>Positive Feedback Count</th>\n",
              "      <th>Division Name</th>\n",
              "      <th>Department Name</th>\n",
              "      <th>Class Name</th>\n",
              "    </tr>\n",
              "  </thead>\n",
              "  <tbody>\n",
              "    <tr>\n",
              "      <th>0</th>\n",
              "      <td>0</td>\n",
              "      <td>767</td>\n",
              "      <td>33</td>\n",
              "      <td>NaN</td>\n",
              "      <td>Absolutely wonderful - silky and sexy and comf...</td>\n",
              "      <td>4</td>\n",
              "      <td>1</td>\n",
              "      <td>0</td>\n",
              "      <td>Initmates</td>\n",
              "      <td>Intimate</td>\n",
              "      <td>Intimates</td>\n",
              "    </tr>\n",
              "    <tr>\n",
              "      <th>1</th>\n",
              "      <td>1</td>\n",
              "      <td>1080</td>\n",
              "      <td>34</td>\n",
              "      <td>NaN</td>\n",
              "      <td>Love this dress!  it's sooo pretty.  i happene...</td>\n",
              "      <td>5</td>\n",
              "      <td>1</td>\n",
              "      <td>4</td>\n",
              "      <td>General</td>\n",
              "      <td>Dresses</td>\n",
              "      <td>Dresses</td>\n",
              "    </tr>\n",
              "    <tr>\n",
              "      <th>2</th>\n",
              "      <td>2</td>\n",
              "      <td>1077</td>\n",
              "      <td>60</td>\n",
              "      <td>Some major design flaws</td>\n",
              "      <td>I had such high hopes for this dress and reall...</td>\n",
              "      <td>3</td>\n",
              "      <td>0</td>\n",
              "      <td>0</td>\n",
              "      <td>General</td>\n",
              "      <td>Dresses</td>\n",
              "      <td>Dresses</td>\n",
              "    </tr>\n",
              "    <tr>\n",
              "      <th>3</th>\n",
              "      <td>3</td>\n",
              "      <td>1049</td>\n",
              "      <td>50</td>\n",
              "      <td>My favorite buy!</td>\n",
              "      <td>I love, love, love this jumpsuit. it's fun, fl...</td>\n",
              "      <td>5</td>\n",
              "      <td>1</td>\n",
              "      <td>0</td>\n",
              "      <td>General Petite</td>\n",
              "      <td>Bottoms</td>\n",
              "      <td>Pants</td>\n",
              "    </tr>\n",
              "    <tr>\n",
              "      <th>4</th>\n",
              "      <td>4</td>\n",
              "      <td>847</td>\n",
              "      <td>47</td>\n",
              "      <td>Flattering shirt</td>\n",
              "      <td>This shirt is very flattering to all due to th...</td>\n",
              "      <td>5</td>\n",
              "      <td>1</td>\n",
              "      <td>6</td>\n",
              "      <td>General</td>\n",
              "      <td>Tops</td>\n",
              "      <td>Blouses</td>\n",
              "    </tr>\n",
              "    <tr>\n",
              "      <th>...</th>\n",
              "      <td>...</td>\n",
              "      <td>...</td>\n",
              "      <td>...</td>\n",
              "      <td>...</td>\n",
              "      <td>...</td>\n",
              "      <td>...</td>\n",
              "      <td>...</td>\n",
              "      <td>...</td>\n",
              "      <td>...</td>\n",
              "      <td>...</td>\n",
              "      <td>...</td>\n",
              "    </tr>\n",
              "    <tr>\n",
              "      <th>23481</th>\n",
              "      <td>23481</td>\n",
              "      <td>1104</td>\n",
              "      <td>34</td>\n",
              "      <td>Great dress for many occasions</td>\n",
              "      <td>I was very happy to snag this dress at such a ...</td>\n",
              "      <td>5</td>\n",
              "      <td>1</td>\n",
              "      <td>0</td>\n",
              "      <td>General Petite</td>\n",
              "      <td>Dresses</td>\n",
              "      <td>Dresses</td>\n",
              "    </tr>\n",
              "    <tr>\n",
              "      <th>23482</th>\n",
              "      <td>23482</td>\n",
              "      <td>862</td>\n",
              "      <td>48</td>\n",
              "      <td>Wish it was made of cotton</td>\n",
              "      <td>It reminds me of maternity clothes. soft, stre...</td>\n",
              "      <td>3</td>\n",
              "      <td>1</td>\n",
              "      <td>0</td>\n",
              "      <td>General Petite</td>\n",
              "      <td>Tops</td>\n",
              "      <td>Knits</td>\n",
              "    </tr>\n",
              "    <tr>\n",
              "      <th>23483</th>\n",
              "      <td>23483</td>\n",
              "      <td>1104</td>\n",
              "      <td>31</td>\n",
              "      <td>Cute, but see through</td>\n",
              "      <td>This fit well, but the top was very see throug...</td>\n",
              "      <td>3</td>\n",
              "      <td>0</td>\n",
              "      <td>1</td>\n",
              "      <td>General Petite</td>\n",
              "      <td>Dresses</td>\n",
              "      <td>Dresses</td>\n",
              "    </tr>\n",
              "    <tr>\n",
              "      <th>23484</th>\n",
              "      <td>23484</td>\n",
              "      <td>1084</td>\n",
              "      <td>28</td>\n",
              "      <td>Very cute dress, perfect for summer parties an...</td>\n",
              "      <td>I bought this dress for a wedding i have this ...</td>\n",
              "      <td>3</td>\n",
              "      <td>1</td>\n",
              "      <td>2</td>\n",
              "      <td>General</td>\n",
              "      <td>Dresses</td>\n",
              "      <td>Dresses</td>\n",
              "    </tr>\n",
              "    <tr>\n",
              "      <th>23485</th>\n",
              "      <td>23485</td>\n",
              "      <td>1104</td>\n",
              "      <td>52</td>\n",
              "      <td>Please make more like this one!</td>\n",
              "      <td>This dress in a lovely platinum is feminine an...</td>\n",
              "      <td>5</td>\n",
              "      <td>1</td>\n",
              "      <td>22</td>\n",
              "      <td>General Petite</td>\n",
              "      <td>Dresses</td>\n",
              "      <td>Dresses</td>\n",
              "    </tr>\n",
              "  </tbody>\n",
              "</table>\n",
              "<p>23486 rows × 11 columns</p>\n",
              "</div>"
            ],
            "text/plain": [
              "       Unnamed: 0  Clothing ID  Age  ...   Division Name Department Name  Class Name\n",
              "0               0          767   33  ...       Initmates        Intimate   Intimates\n",
              "1               1         1080   34  ...         General         Dresses     Dresses\n",
              "2               2         1077   60  ...         General         Dresses     Dresses\n",
              "3               3         1049   50  ...  General Petite         Bottoms       Pants\n",
              "4               4          847   47  ...         General            Tops     Blouses\n",
              "...           ...          ...  ...  ...             ...             ...         ...\n",
              "23481       23481         1104   34  ...  General Petite         Dresses     Dresses\n",
              "23482       23482          862   48  ...  General Petite            Tops       Knits\n",
              "23483       23483         1104   31  ...  General Petite         Dresses     Dresses\n",
              "23484       23484         1084   28  ...         General         Dresses     Dresses\n",
              "23485       23485         1104   52  ...  General Petite         Dresses     Dresses\n",
              "\n",
              "[23486 rows x 11 columns]"
            ]
          },
          "metadata": {
            "tags": []
          },
          "execution_count": 9
        }
      ]
    },
    {
      "cell_type": "markdown",
      "metadata": {
        "id": "uWgdWP3CPEJm"
      },
      "source": [
        "Working with Text"
      ]
    },
    {
      "cell_type": "code",
      "metadata": {
        "id": "GaLentLFOO9P",
        "colab": {
          "base_uri": "https://localhost:8080/",
          "height": 190
        },
        "outputId": "0c72539d-762d-4a79-dd16-d275db6d67b3"
      },
      "source": [
        "pd.set_option('max_colwidth', 500)\n",
        "woman[[\"Title\",\"Review Text\", \"Rating\"]].sample(2)"
      ],
      "execution_count": 10,
      "outputs": [
        {
          "output_type": "execute_result",
          "data": {
            "text/html": [
              "<div>\n",
              "<style scoped>\n",
              "    .dataframe tbody tr th:only-of-type {\n",
              "        vertical-align: middle;\n",
              "    }\n",
              "\n",
              "    .dataframe tbody tr th {\n",
              "        vertical-align: top;\n",
              "    }\n",
              "\n",
              "    .dataframe thead th {\n",
              "        text-align: right;\n",
              "    }\n",
              "</style>\n",
              "<table border=\"1\" class=\"dataframe\">\n",
              "  <thead>\n",
              "    <tr style=\"text-align: right;\">\n",
              "      <th></th>\n",
              "      <th>Title</th>\n",
              "      <th>Review Text</th>\n",
              "      <th>Rating</th>\n",
              "    </tr>\n",
              "  </thead>\n",
              "  <tbody>\n",
              "    <tr>\n",
              "      <th>2668</th>\n",
              "      <td>Different colors are sized differently</td>\n",
              "      <td>I tried these shorts on in 5 colors and found a wide variety of sizing. in the dark grey and taupe i needed to size down one from my usual 28 to a size 27. in the sapphire, lavender and red my regular size 28 fit perfectly. i ended up purchasing the dark grey and lavender with a discount. i gave 4 stars for the variation in sizing but once i got the correct fit the shorts have not stretched out on me throughout the day in either color. the length is perfect, short enough to not look frumpy, but</td>\n",
              "      <td>4</td>\n",
              "    </tr>\n",
              "    <tr>\n",
              "      <th>3989</th>\n",
              "      <td>Love - soft and feminine</td>\n",
              "      <td>I decided to order this on a whim during the promotion on tops, why? because it looked decent and i like the other tops from the same brand. i am so glad i did, it is even better in person.\\r\\n\\r\\ncolor: nice ivory with subtle speckle in it. very neutral in color, but also on the warmer side. the fabric is a little sheer, you could definitely see my bright colored bra, but a nude one will do the trick.\\r\\n\\r\\nthe length was a little longer, and the sleeves were a bit long too (doesn't come i...</td>\n",
              "      <td>5</td>\n",
              "    </tr>\n",
              "  </tbody>\n",
              "</table>\n",
              "</div>"
            ],
            "text/plain": [
              "                                       Title  ... Rating\n",
              "2668  Different colors are sized differently  ...      4\n",
              "3989                Love - soft and feminine  ...      5\n",
              "\n",
              "[2 rows x 3 columns]"
            ]
          },
          "metadata": {
            "tags": []
          },
          "execution_count": 10
        }
      ]
    },
    {
      "cell_type": "markdown",
      "metadata": {
        "id": "NLaRHOfYPYmU"
      },
      "source": [
        "Text Cleaning"
      ]
    },
    {
      "cell_type": "code",
      "metadata": {
        "id": "Xnd4HJDyPM18",
        "colab": {
          "base_uri": "https://localhost:8080/"
        },
        "outputId": "0f7fd98d-71d4-4a56-e47b-847dcd777e8f"
      },
      "source": [
        "nltk.download('stopwords')"
      ],
      "execution_count": 11,
      "outputs": [
        {
          "output_type": "stream",
          "text": [
            "[nltk_data] Downloading package stopwords to /root/nltk_data...\n",
            "[nltk_data]   Unzipping corpora/stopwords.zip.\n"
          ],
          "name": "stdout"
        },
        {
          "output_type": "execute_result",
          "data": {
            "text/plain": [
              "True"
            ]
          },
          "metadata": {
            "tags": []
          },
          "execution_count": 11
        }
      ]
    },
    {
      "cell_type": "code",
      "metadata": {
        "id": "yQvoYHEA6FtK"
      },
      "source": [
        "ps = PorterStemmer()\n",
        "tokenizer = RegexpTokenizer(r'\\w+')\n",
        "stop_words = set(stopwords.words('english'))"
      ],
      "execution_count": 12,
      "outputs": []
    },
    {
      "cell_type": "code",
      "metadata": {
        "id": "RhwFJ_HA6Dlu"
      },
      "source": [
        "def preprocessing(data):\n",
        "    txt = data.str.lower().str.cat(sep=' ') #1\n",
        "    words = tokenizer.tokenize(txt) #2\n",
        "    words = [w for w in words if not w in stop_words] #3\n",
        "    #words = [ps.stem(w) for w in words] #4\n",
        "    return words"
      ],
      "execution_count": 13,
      "outputs": []
    },
    {
      "cell_type": "code",
      "metadata": {
        "id": "B1trvsRi7hoG"
      },
      "source": [
        "woman['tokenized'] = woman[\"Review Text\"].astype(str).str.lower() # Turn into lower case text\n",
        "woman['tokenized'] = woman.apply(lambda row: tokenizer.tokenize(row['tokenized']), axis=1) # Apply tokenize to each row\n",
        "woman['tokenized'] = woman['tokenized'].apply(lambda x: [w for w in x if not w in stop_words]) # Remove stopwords from each row"
      ],
      "execution_count": 14,
      "outputs": []
    },
    {
      "cell_type": "markdown",
      "metadata": {
        "id": "iW_T6ahqPutQ"
      },
      "source": [
        "Data Pre-pocessing for Sentiment Analysis"
      ]
    },
    {
      "cell_type": "code",
      "metadata": {
        "colab": {
          "base_uri": "https://localhost:8080/"
        },
        "id": "_0wAAl1jzhWH",
        "outputId": "983d270a-1b7c-4c48-f2ff-4dcd4021cea5"
      },
      "source": [
        "nltk.download('vader_lexicon')"
      ],
      "execution_count": 15,
      "outputs": [
        {
          "output_type": "stream",
          "text": [
            "[nltk_data] Downloading package vader_lexicon to /root/nltk_data...\n"
          ],
          "name": "stdout"
        },
        {
          "output_type": "execute_result",
          "data": {
            "text/plain": [
              "True"
            ]
          },
          "metadata": {
            "tags": []
          },
          "execution_count": 15
        }
      ]
    },
    {
      "cell_type": "code",
      "metadata": {
        "id": "5G72ws7cPZep"
      },
      "source": [
        "# Pre-Processing\n",
        "SIA = SentimentIntensityAnalyzer()\n",
        "woman['Review Text']= woman['Review Text'].astype(str)\n",
        "\n",
        "# Applying Model, Variable Creation\n",
        "woman['Polarity Score'] = woman['Review Text'].apply(lambda x: SIA.polarity_scores(x)['compound'])\n",
        "woman['Neutral Score'] = woman['Review Text'].apply(lambda x: SIA.polarity_scores(x)['neu'])\n",
        "woman['Negative Score'] = woman['Review Text'].apply(lambda x: SIA.polarity_scores(x)['neg'])\n",
        "woman['Positive Score'] = woman['Review Text'].apply(lambda x: SIA.polarity_scores(x)['pos'])\n",
        "\n",
        "# Converting 0 to 1 Decimal Score to a Categorical Variable\n",
        "woman['Sentiment'] = ''\n",
        "woman.loc[woman['Polarity Score'] > 0, 'Sentiment'] = 'Positive'\n",
        "woman.loc[woman['Polarity Score'] == 0, 'Sentiment'] = 'Neutral'\n",
        "woman.loc[woman['Polarity Score'] < 0, 'Sentiment'] = 'Negative'"
      ],
      "execution_count": 16,
      "outputs": []
    },
    {
      "cell_type": "code",
      "metadata": {
        "id": "RujSc_b96T1w",
        "colab": {
          "base_uri": "https://localhost:8080/",
          "height": 1000
        },
        "outputId": "c4a7f287-95f6-4584-91ab-88b52dab4a72"
      },
      "source": [
        "def string_unlist(strlist):\n",
        "    return \" \".join(strlist)\n",
        "\n",
        "woman[\"tokenized_unlist\"] = woman[\"tokenized\"].apply(string_unlist)\n",
        "woman.head()"
      ],
      "execution_count": 17,
      "outputs": [
        {
          "output_type": "execute_result",
          "data": {
            "text/html": [
              "<div>\n",
              "<style scoped>\n",
              "    .dataframe tbody tr th:only-of-type {\n",
              "        vertical-align: middle;\n",
              "    }\n",
              "\n",
              "    .dataframe tbody tr th {\n",
              "        vertical-align: top;\n",
              "    }\n",
              "\n",
              "    .dataframe thead th {\n",
              "        text-align: right;\n",
              "    }\n",
              "</style>\n",
              "<table border=\"1\" class=\"dataframe\">\n",
              "  <thead>\n",
              "    <tr style=\"text-align: right;\">\n",
              "      <th></th>\n",
              "      <th>Unnamed: 0</th>\n",
              "      <th>Clothing ID</th>\n",
              "      <th>Age</th>\n",
              "      <th>Title</th>\n",
              "      <th>Review Text</th>\n",
              "      <th>Rating</th>\n",
              "      <th>Recommended IND</th>\n",
              "      <th>Positive Feedback Count</th>\n",
              "      <th>Division Name</th>\n",
              "      <th>Department Name</th>\n",
              "      <th>Class Name</th>\n",
              "      <th>tokenized</th>\n",
              "      <th>Polarity Score</th>\n",
              "      <th>Neutral Score</th>\n",
              "      <th>Negative Score</th>\n",
              "      <th>Positive Score</th>\n",
              "      <th>Sentiment</th>\n",
              "      <th>tokenized_unlist</th>\n",
              "    </tr>\n",
              "  </thead>\n",
              "  <tbody>\n",
              "    <tr>\n",
              "      <th>0</th>\n",
              "      <td>0</td>\n",
              "      <td>767</td>\n",
              "      <td>33</td>\n",
              "      <td>NaN</td>\n",
              "      <td>Absolutely wonderful - silky and sexy and comfortable</td>\n",
              "      <td>4</td>\n",
              "      <td>1</td>\n",
              "      <td>0</td>\n",
              "      <td>Initmates</td>\n",
              "      <td>Intimate</td>\n",
              "      <td>Intimates</td>\n",
              "      <td>[absolutely, wonderful, silky, sexy, comfortable]</td>\n",
              "      <td>0.8932</td>\n",
              "      <td>0.272</td>\n",
              "      <td>0.000</td>\n",
              "      <td>0.728</td>\n",
              "      <td>Positive</td>\n",
              "      <td>absolutely wonderful silky sexy comfortable</td>\n",
              "    </tr>\n",
              "    <tr>\n",
              "      <th>1</th>\n",
              "      <td>1</td>\n",
              "      <td>1080</td>\n",
              "      <td>34</td>\n",
              "      <td>NaN</td>\n",
              "      <td>Love this dress!  it's sooo pretty.  i happened to find it in a store, and i'm glad i did bc i never would have ordered it online bc it's petite.  i bought a petite and am 5'8\".  i love the length on me- hits just a little below the knee.  would definitely be a true midi on someone who is truly petite.</td>\n",
              "      <td>5</td>\n",
              "      <td>1</td>\n",
              "      <td>4</td>\n",
              "      <td>General</td>\n",
              "      <td>Dresses</td>\n",
              "      <td>Dresses</td>\n",
              "      <td>[love, dress, sooo, pretty, happened, find, store, glad, bc, never, would, ordered, online, bc, petite, bought, petite, 5, 8, love, length, hits, little, knee, would, definitely, true, midi, someone, truly, petite]</td>\n",
              "      <td>0.9729</td>\n",
              "      <td>0.664</td>\n",
              "      <td>0.000</td>\n",
              "      <td>0.336</td>\n",
              "      <td>Positive</td>\n",
              "      <td>love dress sooo pretty happened find store glad bc never would ordered online bc petite bought petite 5 8 love length hits little knee would definitely true midi someone truly petite</td>\n",
              "    </tr>\n",
              "    <tr>\n",
              "      <th>2</th>\n",
              "      <td>2</td>\n",
              "      <td>1077</td>\n",
              "      <td>60</td>\n",
              "      <td>Some major design flaws</td>\n",
              "      <td>I had such high hopes for this dress and really wanted it to work for me. i initially ordered the petite small (my usual size) but i found this to be outrageously small. so small in fact that i could not zip it up! i reordered it in petite medium, which was just ok. overall, the top half was comfortable and fit nicely, but the bottom half had a very tight under layer and several somewhat cheap (net) over layers. imo, a major design flaw was the net over layer sewn directly into the zipper - ...</td>\n",
              "      <td>3</td>\n",
              "      <td>0</td>\n",
              "      <td>0</td>\n",
              "      <td>General</td>\n",
              "      <td>Dresses</td>\n",
              "      <td>Dresses</td>\n",
              "      <td>[high, hopes, dress, really, wanted, work, initially, ordered, petite, small, usual, size, found, outrageously, small, small, fact, could, zip, reordered, petite, medium, ok, overall, top, half, comfortable, fit, nicely, bottom, half, tight, layer, several, somewhat, cheap, net, layers, imo, major, design, flaw, net, layer, sewn, directly, zipper, c]</td>\n",
              "      <td>0.9427</td>\n",
              "      <td>0.792</td>\n",
              "      <td>0.027</td>\n",
              "      <td>0.181</td>\n",
              "      <td>Positive</td>\n",
              "      <td>high hopes dress really wanted work initially ordered petite small usual size found outrageously small small fact could zip reordered petite medium ok overall top half comfortable fit nicely bottom half tight layer several somewhat cheap net layers imo major design flaw net layer sewn directly zipper c</td>\n",
              "    </tr>\n",
              "    <tr>\n",
              "      <th>3</th>\n",
              "      <td>3</td>\n",
              "      <td>1049</td>\n",
              "      <td>50</td>\n",
              "      <td>My favorite buy!</td>\n",
              "      <td>I love, love, love this jumpsuit. it's fun, flirty, and fabulous! every time i wear it, i get nothing but great compliments!</td>\n",
              "      <td>5</td>\n",
              "      <td>1</td>\n",
              "      <td>0</td>\n",
              "      <td>General Petite</td>\n",
              "      <td>Bottoms</td>\n",
              "      <td>Pants</td>\n",
              "      <td>[love, love, love, jumpsuit, fun, flirty, fabulous, every, time, wear, get, nothing, great, compliments]</td>\n",
              "      <td>0.5727</td>\n",
              "      <td>0.340</td>\n",
              "      <td>0.226</td>\n",
              "      <td>0.434</td>\n",
              "      <td>Positive</td>\n",
              "      <td>love love love jumpsuit fun flirty fabulous every time wear get nothing great compliments</td>\n",
              "    </tr>\n",
              "    <tr>\n",
              "      <th>4</th>\n",
              "      <td>4</td>\n",
              "      <td>847</td>\n",
              "      <td>47</td>\n",
              "      <td>Flattering shirt</td>\n",
              "      <td>This shirt is very flattering to all due to the adjustable front tie. it is the perfect length to wear with leggings and it is sleeveless so it pairs well with any cardigan. love this shirt!!!</td>\n",
              "      <td>5</td>\n",
              "      <td>1</td>\n",
              "      <td>6</td>\n",
              "      <td>General</td>\n",
              "      <td>Tops</td>\n",
              "      <td>Blouses</td>\n",
              "      <td>[shirt, flattering, due, adjustable, front, tie, perfect, length, wear, leggings, sleeveless, pairs, well, cardigan, love, shirt]</td>\n",
              "      <td>0.9291</td>\n",
              "      <td>0.700</td>\n",
              "      <td>0.000</td>\n",
              "      <td>0.300</td>\n",
              "      <td>Positive</td>\n",
              "      <td>shirt flattering due adjustable front tie perfect length wear leggings sleeveless pairs well cardigan love shirt</td>\n",
              "    </tr>\n",
              "  </tbody>\n",
              "</table>\n",
              "</div>"
            ],
            "text/plain": [
              "   Unnamed: 0  ...                                                                                                                                                                                                                                                                                                 tokenized_unlist\n",
              "0           0  ...                                                                                                                                                                                                                                                                      absolutely wonderful silky sexy comfortable\n",
              "1           1  ...                                                                                                                           love dress sooo pretty happened find store glad bc never would ordered online bc petite bought petite 5 8 love length hits little knee would definitely true midi someone truly petite\n",
              "2           2  ...  high hopes dress really wanted work initially ordered petite small usual size found outrageously small small fact could zip reordered petite medium ok overall top half comfortable fit nicely bottom half tight layer several somewhat cheap net layers imo major design flaw net layer sewn directly zipper c\n",
              "3           3  ...                                                                                                                                                                                                                        love love love jumpsuit fun flirty fabulous every time wear get nothing great compliments\n",
              "4           4  ...                                                                                                                                                                                                 shirt flattering due adjustable front tie perfect length wear leggings sleeveless pairs well cardigan love shirt\n",
              "\n",
              "[5 rows x 18 columns]"
            ]
          },
          "metadata": {
            "tags": []
          },
          "execution_count": 17
        }
      ]
    },
    {
      "cell_type": "code",
      "metadata": {
        "id": "7c72yyjZ76rd",
        "colab": {
          "base_uri": "https://localhost:8080/",
          "height": 1000
        },
        "outputId": "ce05963d-8395-410d-88c6-15f5f679b07c"
      },
      "source": [
        "conditions = [\n",
        "    woman['Sentiment'] == \"Positive\",\n",
        "    woman['Sentiment'] == \"Negative\",\n",
        "    woman['Sentiment'] == \"Neutral\"]\n",
        "choices = [1,-1,0]\n",
        "woman['label'] = np.select(conditions, choices)\n",
        "woman.head()"
      ],
      "execution_count": 18,
      "outputs": [
        {
          "output_type": "execute_result",
          "data": {
            "text/html": [
              "<div>\n",
              "<style scoped>\n",
              "    .dataframe tbody tr th:only-of-type {\n",
              "        vertical-align: middle;\n",
              "    }\n",
              "\n",
              "    .dataframe tbody tr th {\n",
              "        vertical-align: top;\n",
              "    }\n",
              "\n",
              "    .dataframe thead th {\n",
              "        text-align: right;\n",
              "    }\n",
              "</style>\n",
              "<table border=\"1\" class=\"dataframe\">\n",
              "  <thead>\n",
              "    <tr style=\"text-align: right;\">\n",
              "      <th></th>\n",
              "      <th>Unnamed: 0</th>\n",
              "      <th>Clothing ID</th>\n",
              "      <th>Age</th>\n",
              "      <th>Title</th>\n",
              "      <th>Review Text</th>\n",
              "      <th>Rating</th>\n",
              "      <th>Recommended IND</th>\n",
              "      <th>Positive Feedback Count</th>\n",
              "      <th>Division Name</th>\n",
              "      <th>Department Name</th>\n",
              "      <th>Class Name</th>\n",
              "      <th>tokenized</th>\n",
              "      <th>Polarity Score</th>\n",
              "      <th>Neutral Score</th>\n",
              "      <th>Negative Score</th>\n",
              "      <th>Positive Score</th>\n",
              "      <th>Sentiment</th>\n",
              "      <th>tokenized_unlist</th>\n",
              "      <th>label</th>\n",
              "    </tr>\n",
              "  </thead>\n",
              "  <tbody>\n",
              "    <tr>\n",
              "      <th>0</th>\n",
              "      <td>0</td>\n",
              "      <td>767</td>\n",
              "      <td>33</td>\n",
              "      <td>NaN</td>\n",
              "      <td>Absolutely wonderful - silky and sexy and comfortable</td>\n",
              "      <td>4</td>\n",
              "      <td>1</td>\n",
              "      <td>0</td>\n",
              "      <td>Initmates</td>\n",
              "      <td>Intimate</td>\n",
              "      <td>Intimates</td>\n",
              "      <td>[absolutely, wonderful, silky, sexy, comfortable]</td>\n",
              "      <td>0.8932</td>\n",
              "      <td>0.272</td>\n",
              "      <td>0.000</td>\n",
              "      <td>0.728</td>\n",
              "      <td>Positive</td>\n",
              "      <td>absolutely wonderful silky sexy comfortable</td>\n",
              "      <td>1</td>\n",
              "    </tr>\n",
              "    <tr>\n",
              "      <th>1</th>\n",
              "      <td>1</td>\n",
              "      <td>1080</td>\n",
              "      <td>34</td>\n",
              "      <td>NaN</td>\n",
              "      <td>Love this dress!  it's sooo pretty.  i happened to find it in a store, and i'm glad i did bc i never would have ordered it online bc it's petite.  i bought a petite and am 5'8\".  i love the length on me- hits just a little below the knee.  would definitely be a true midi on someone who is truly petite.</td>\n",
              "      <td>5</td>\n",
              "      <td>1</td>\n",
              "      <td>4</td>\n",
              "      <td>General</td>\n",
              "      <td>Dresses</td>\n",
              "      <td>Dresses</td>\n",
              "      <td>[love, dress, sooo, pretty, happened, find, store, glad, bc, never, would, ordered, online, bc, petite, bought, petite, 5, 8, love, length, hits, little, knee, would, definitely, true, midi, someone, truly, petite]</td>\n",
              "      <td>0.9729</td>\n",
              "      <td>0.664</td>\n",
              "      <td>0.000</td>\n",
              "      <td>0.336</td>\n",
              "      <td>Positive</td>\n",
              "      <td>love dress sooo pretty happened find store glad bc never would ordered online bc petite bought petite 5 8 love length hits little knee would definitely true midi someone truly petite</td>\n",
              "      <td>1</td>\n",
              "    </tr>\n",
              "    <tr>\n",
              "      <th>2</th>\n",
              "      <td>2</td>\n",
              "      <td>1077</td>\n",
              "      <td>60</td>\n",
              "      <td>Some major design flaws</td>\n",
              "      <td>I had such high hopes for this dress and really wanted it to work for me. i initially ordered the petite small (my usual size) but i found this to be outrageously small. so small in fact that i could not zip it up! i reordered it in petite medium, which was just ok. overall, the top half was comfortable and fit nicely, but the bottom half had a very tight under layer and several somewhat cheap (net) over layers. imo, a major design flaw was the net over layer sewn directly into the zipper - ...</td>\n",
              "      <td>3</td>\n",
              "      <td>0</td>\n",
              "      <td>0</td>\n",
              "      <td>General</td>\n",
              "      <td>Dresses</td>\n",
              "      <td>Dresses</td>\n",
              "      <td>[high, hopes, dress, really, wanted, work, initially, ordered, petite, small, usual, size, found, outrageously, small, small, fact, could, zip, reordered, petite, medium, ok, overall, top, half, comfortable, fit, nicely, bottom, half, tight, layer, several, somewhat, cheap, net, layers, imo, major, design, flaw, net, layer, sewn, directly, zipper, c]</td>\n",
              "      <td>0.9427</td>\n",
              "      <td>0.792</td>\n",
              "      <td>0.027</td>\n",
              "      <td>0.181</td>\n",
              "      <td>Positive</td>\n",
              "      <td>high hopes dress really wanted work initially ordered petite small usual size found outrageously small small fact could zip reordered petite medium ok overall top half comfortable fit nicely bottom half tight layer several somewhat cheap net layers imo major design flaw net layer sewn directly zipper c</td>\n",
              "      <td>1</td>\n",
              "    </tr>\n",
              "    <tr>\n",
              "      <th>3</th>\n",
              "      <td>3</td>\n",
              "      <td>1049</td>\n",
              "      <td>50</td>\n",
              "      <td>My favorite buy!</td>\n",
              "      <td>I love, love, love this jumpsuit. it's fun, flirty, and fabulous! every time i wear it, i get nothing but great compliments!</td>\n",
              "      <td>5</td>\n",
              "      <td>1</td>\n",
              "      <td>0</td>\n",
              "      <td>General Petite</td>\n",
              "      <td>Bottoms</td>\n",
              "      <td>Pants</td>\n",
              "      <td>[love, love, love, jumpsuit, fun, flirty, fabulous, every, time, wear, get, nothing, great, compliments]</td>\n",
              "      <td>0.5727</td>\n",
              "      <td>0.340</td>\n",
              "      <td>0.226</td>\n",
              "      <td>0.434</td>\n",
              "      <td>Positive</td>\n",
              "      <td>love love love jumpsuit fun flirty fabulous every time wear get nothing great compliments</td>\n",
              "      <td>1</td>\n",
              "    </tr>\n",
              "    <tr>\n",
              "      <th>4</th>\n",
              "      <td>4</td>\n",
              "      <td>847</td>\n",
              "      <td>47</td>\n",
              "      <td>Flattering shirt</td>\n",
              "      <td>This shirt is very flattering to all due to the adjustable front tie. it is the perfect length to wear with leggings and it is sleeveless so it pairs well with any cardigan. love this shirt!!!</td>\n",
              "      <td>5</td>\n",
              "      <td>1</td>\n",
              "      <td>6</td>\n",
              "      <td>General</td>\n",
              "      <td>Tops</td>\n",
              "      <td>Blouses</td>\n",
              "      <td>[shirt, flattering, due, adjustable, front, tie, perfect, length, wear, leggings, sleeveless, pairs, well, cardigan, love, shirt]</td>\n",
              "      <td>0.9291</td>\n",
              "      <td>0.700</td>\n",
              "      <td>0.000</td>\n",
              "      <td>0.300</td>\n",
              "      <td>Positive</td>\n",
              "      <td>shirt flattering due adjustable front tie perfect length wear leggings sleeveless pairs well cardigan love shirt</td>\n",
              "      <td>1</td>\n",
              "    </tr>\n",
              "  </tbody>\n",
              "</table>\n",
              "</div>"
            ],
            "text/plain": [
              "   Unnamed: 0  ...  label\n",
              "0           0  ...      1\n",
              "1           1  ...      1\n",
              "2           2  ...      1\n",
              "3           3  ...      1\n",
              "4           4  ...      1\n",
              "\n",
              "[5 rows x 19 columns]"
            ]
          },
          "metadata": {
            "tags": []
          },
          "execution_count": 18
        }
      ]
    },
    {
      "cell_type": "code",
      "metadata": {
        "colab": {
          "base_uri": "https://localhost:8080/"
        },
        "id": "0z7MFEoKzocv",
        "outputId": "7403e9b9-80cb-48ac-f7a0-4defe46026d7"
      },
      "source": [
        "woman.shape"
      ],
      "execution_count": 19,
      "outputs": [
        {
          "output_type": "execute_result",
          "data": {
            "text/plain": [
              "(23486, 19)"
            ]
          },
          "metadata": {
            "tags": []
          },
          "execution_count": 19
        }
      ]
    },
    {
      "cell_type": "code",
      "metadata": {
        "id": "l9ruUP_1tbns"
      },
      "source": [
        "#woman.to_csv('woman.csv')"
      ],
      "execution_count": 20,
      "outputs": []
    },
    {
      "cell_type": "markdown",
      "metadata": {
        "id": "X-JFRK_hwvtd"
      },
      "source": [
        "### **Data Preparation**"
      ]
    },
    {
      "cell_type": "markdown",
      "metadata": {
        "id": "7QzIU6Htw7El"
      },
      "source": [
        "Import Libraries "
      ]
    },
    {
      "cell_type": "code",
      "metadata": {
        "id": "kqgo3DOUw6Bu"
      },
      "source": [
        "from keras.models import Sequential\r\n",
        "from keras.initializers import Constant\r\n",
        "from sklearn.model_selection import train_test_split\r\n",
        "from keras.callbacks import EarlyStopping, ModelCheckpoint\r\n",
        "from keras.layers import Dense, Input, Dropout, LSTM, Activation, Embedding, Bidirectional, Flatten, Dense, SimpleRNN"
      ],
      "execution_count": 21,
      "outputs": []
    },
    {
      "cell_type": "code",
      "metadata": {
        "colab": {
          "base_uri": "https://localhost:8080/"
        },
        "id": "r4exstFf0ipO",
        "outputId": "ec8b5e2e-52e4-43db-f8ad-7d5fd1363ec6"
      },
      "source": [
        "woman.columns"
      ],
      "execution_count": 22,
      "outputs": [
        {
          "output_type": "execute_result",
          "data": {
            "text/plain": [
              "Index(['Unnamed: 0', 'Clothing ID', 'Age', 'Title', 'Review Text', 'Rating',\n",
              "       'Recommended IND', 'Positive Feedback Count', 'Division Name',\n",
              "       'Department Name', 'Class Name', 'tokenized', 'Polarity Score',\n",
              "       'Neutral Score', 'Negative Score', 'Positive Score', 'Sentiment',\n",
              "       'tokenized_unlist', 'label'],\n",
              "      dtype='object')"
            ]
          },
          "metadata": {
            "tags": []
          },
          "execution_count": 22
        }
      ]
    },
    {
      "cell_type": "markdown",
      "metadata": {
        "id": "bIwxJRtUjZvg"
      },
      "source": [
        "Import GloVe\r\n",
        "\r\n",
        "GloVe - Global vector to represent and classify words contained in statements.\r\n",
        "\r\n",
        "[glove.6B.50d (Source URL:https://www.kaggle.com/watts2/glove6b50dtxt)] \r\n",
        "\r\n"
      ]
    },
    {
      "cell_type": "code",
      "metadata": {
        "colab": {
          "base_uri": "https://localhost:8080/"
        },
        "id": "oZ254VGlhpnn",
        "outputId": "f59a91b9-307f-4763-cab0-bdb7f5da8c33"
      },
      "source": [
        "! kaggle datasets download -d 'watts2/glove6b50dtxt/download'  "
      ],
      "execution_count": 23,
      "outputs": [
        {
          "output_type": "stream",
          "text": [
            "Downloading glove6b50dtxt.zip to /content\n",
            " 72% 49.0M/67.7M [00:01<00:00, 30.4MB/s]\n",
            "100% 67.7M/67.7M [00:01<00:00, 60.8MB/s]\n"
          ],
          "name": "stdout"
        }
      ]
    },
    {
      "cell_type": "code",
      "metadata": {
        "colab": {
          "base_uri": "https://localhost:8080/"
        },
        "id": "xLcj1UJOj3xM",
        "outputId": "642f4ece-ea3c-4023-b794-3b935c6f9f01"
      },
      "source": [
        "!ls"
      ],
      "execution_count": 24,
      "outputs": [
        {
          "output_type": "stream",
          "text": [
            " glove6b50dtxt.zip  'Womens Clothing E-Commerce Reviews.csv'\n",
            " kaggle.json\t     womens-ecommerce-clothing-reviews.zip\n",
            " sample_data\n"
          ],
          "name": "stdout"
        }
      ]
    },
    {
      "cell_type": "code",
      "metadata": {
        "id": "yKRJ3uYhj5r4"
      },
      "source": [
        "!unzip -q glove6b50dtxt.zip"
      ],
      "execution_count": 25,
      "outputs": []
    },
    {
      "cell_type": "code",
      "metadata": {
        "colab": {
          "base_uri": "https://localhost:8080/"
        },
        "id": "qxS0kTpXj99V",
        "outputId": "ddd1cf78-0933-4965-f616-4377a2853bde"
      },
      "source": [
        "!ls"
      ],
      "execution_count": 26,
      "outputs": [
        {
          "output_type": "stream",
          "text": [
            " glove.6B.50d.txt    kaggle.json  'Womens Clothing E-Commerce Reviews.csv'\n",
            " glove6b50dtxt.zip   sample_data   womens-ecommerce-clothing-reviews.zip\n"
          ],
          "name": "stdout"
        }
      ]
    },
    {
      "cell_type": "code",
      "metadata": {
        "id": "WTO6iyblk6Wf"
      },
      "source": [
        "#Word Preprocessing\r\n",
        "#creating subset of the dataframe\r\n",
        "recc_lstm=woman[['Review Text','label','Recommended IND']]\r\n",
        "recc_lstm=recc_lstm.dropna()  #dropping missing text cases in reviews"
      ],
      "execution_count": 27,
      "outputs": []
    },
    {
      "cell_type": "code",
      "metadata": {
        "id": "NislqAPzlD6X"
      },
      "source": [
        "#converting the panda series to numpy array\r\n",
        "X=recc_lstm['Review Text']\r\n",
        "X=np.array(X)\r\n",
        "Y=recc_lstm['label']\r\n",
        "Y=np.array(Y)"
      ],
      "execution_count": 28,
      "outputs": []
    },
    {
      "cell_type": "code",
      "metadata": {
        "id": "-3Y7Qw_AlNZX"
      },
      "source": [
        "#tokenizing the strings\r\n",
        "tokenizer=Tokenizer()\r\n",
        "tokenizer.fit_on_texts(X)\r\n",
        "sequencer=tokenizer.texts_to_sequences(X)"
      ],
      "execution_count": 29,
      "outputs": []
    },
    {
      "cell_type": "code",
      "metadata": {
        "colab": {
          "base_uri": "https://localhost:8080/"
        },
        "id": "dNs9DhrwlRfI",
        "outputId": "7dd7c6b9-5bc5-4cda-d551-463fdd5d4d92"
      },
      "source": [
        "#finding maximum length of a review\r\n",
        "maxLen=0\r\n",
        "for string in sequencer:\r\n",
        "    temp=len(string)\r\n",
        "    if temp>maxLen:\r\n",
        "        maxLen=temp\r\n",
        "\r\n",
        "print ('Maximum sequence length:',maxLen)"
      ],
      "execution_count": 30,
      "outputs": [
        {
          "output_type": "stream",
          "text": [
            "Maximum sequence length: 116\n"
          ],
          "name": "stdout"
        }
      ]
    },
    {
      "cell_type": "code",
      "metadata": {
        "id": "YplHc-gvlUJw"
      },
      "source": [
        "#creating the word to index and index to word vectors\r\n",
        "word_to_index=tokenizer.word_index #dictionary that maps words in the reviews to indices\r\n",
        "index_to_word=tokenizer.index_word #dictionary that maps indices back to words"
      ],
      "execution_count": 31,
      "outputs": []
    },
    {
      "cell_type": "code",
      "metadata": {
        "id": "LcRoMfpIlXyx"
      },
      "source": [
        "#loading the GloVe embeddings\r\n",
        "embeddings_dict = {} #dictionary of words and their correspondng GloVe vector representation\r\n",
        "indices=0\r\n",
        "\r\n",
        "with open(\"/content/glove.6B.50d.txt\", 'r', encoding ='utf8') as f:\r\n",
        "    for line in f:\r\n",
        "        words = line.split()\r\n",
        "        word = words[0]\r\n",
        "        vector = np.asarray(words[1:], \"float32\")\r\n",
        "        embeddings_dict[word] = vector\r\n",
        "        indices+=1"
      ],
      "execution_count": 32,
      "outputs": []
    },
    {
      "cell_type": "code",
      "metadata": {
        "colab": {
          "base_uri": "https://localhost:8080/"
        },
        "id": "IEh-H25llasG",
        "outputId": "14bab067-f4b2-43a4-e4a7-056d70f74e7d"
      },
      "source": [
        "#preparing embedding matrix\r\n",
        "vocab_size=len(word_to_index)+1 #to account for out of vocabulary words\r\n",
        "embedding_dim=50 #number of dimensions chosen in the GloVe representation\r\n",
        "present=0\r\n",
        "absent=0\r\n",
        "embedding_matrix = np.zeros((vocab_size, embedding_dim))\r\n",
        "for word, i in word_to_index.items():\r\n",
        "    #embedding_vector = embeddings_dict[word]\r\n",
        "    embedding_vector=  embeddings_dict.get(word)\r\n",
        "    if embedding_vector is not None:\r\n",
        "        embedding_matrix[i] = embedding_vector\r\n",
        "        present+=1\r\n",
        "    else:\r\n",
        "        absent+=1\r\n",
        "\r\n",
        "print (\"Number of words in the matrix\",present)\r\n",
        "print (\"Number of missing words\",absent)"
      ],
      "execution_count": 33,
      "outputs": [
        {
          "output_type": "stream",
          "text": [
            "Number of words in the matrix 12065\n",
            "Number of missing words 2783\n"
          ],
          "name": "stdout"
        }
      ]
    },
    {
      "cell_type": "markdown",
      "metadata": {
        "id": "ceGsD1Cvlryd"
      },
      "source": [
        "    \r\n",
        "Converts the tokenized sequencer to 2D matrix for each text entry. Each row in the matrix is one review. Each column indice indicate one word in the text.\r\n",
        "    \r\n",
        "Arguments:\r\n",
        "\r\n",
        "* sequencer -- List of list comprisong of text reviews converted to indices.\r\n",
        "* maxLen -- Maximum length of the nested list consisting of text converted to indices in the sequencer list.\r\n",
        "\r\n",
        "Returns:\r\n",
        "* X_indices -- 2D matrix where each row corresponds to each review. Each column indice correspond to a word in the review.\r\n"
      ]
    },
    {
      "cell_type": "code",
      "metadata": {
        "id": "nPsUm_5aliw9"
      },
      "source": [
        "#preprocessing the text to create indices\r\n",
        "\r\n",
        "def sentences_to_indices(sequencer,maxLen):\r\n",
        "    X_indices=np.zeros((len(sequencer),maxLen))\r\n",
        "    for i in range(len(sequencer)):\r\n",
        "        j=0\r\n",
        "        for n in sequencer[i]:\r\n",
        "             X_indices[i,j]= n\r\n",
        "             j+=1\r\n",
        "    return X_indices\r\n",
        "\r\n",
        "X_indices=sentences_to_indices(sequencer,maxLen)"
      ],
      "execution_count": 34,
      "outputs": []
    },
    {
      "cell_type": "markdown",
      "metadata": {
        "id": "kDxQCqXdmMme"
      },
      "source": [
        "### Modeling the text data"
      ]
    },
    {
      "cell_type": "code",
      "metadata": {
        "id": "TXMcZr-HmIpT"
      },
      "source": [
        "#dividing into training and test data set\r\n",
        "np.random.seed(2)\r\n",
        "X_tr,X_test,Y_tr,Y_test=train_test_split(X_indices,Y,test_size=0.2)"
      ],
      "execution_count": 35,
      "outputs": []
    },
    {
      "cell_type": "code",
      "metadata": {
        "colab": {
          "base_uri": "https://localhost:8080/"
        },
        "id": "NP989Np0meUQ",
        "outputId": "4be865b1-a8fc-447b-f7f8-d5d8c8f5e29b"
      },
      "source": [
        "#building the Bidirectional LSTM model\r\n",
        "early_stopping=EarlyStopping(monitor='val_loss',patience=5)\r\n",
        "model_save=ModelCheckpoint('top_model.hdf5',save_best_only=True)\r\n",
        "model=Sequential()\r\n",
        "model.add(Embedding(\r\n",
        "    input_dim=vocab_size,\r\n",
        "    output_dim=embedding_dim,\r\n",
        "    input_length=maxLen,\r\n",
        "    embeddings_initializer=Constant(embedding_matrix),\r\n",
        "    trainable=True,\r\n",
        "))\r\n",
        "model.add(Bidirectional(LSTM(units = 10, return_sequences= True)))\r\n",
        "#model.add(Dropout(rate=0.5))\r\n",
        "model.add(Bidirectional(LSTM(units = 10, return_sequences= False)))\r\n",
        "model.add(Dense(120,activation='relu'))\r\n",
        "model.add(Dense(1,activation='sigmoid'))\r\n",
        "model.add(Dense(240,activation='relu'))\r\n",
        "model.add(Dense(1,activation='sigmoid'))\r\n",
        "model.add(Dense(360,activation='relu'))\r\n",
        "model.add(Dense(1,activation='sigmoid'))\r\n",
        "\r\n",
        "model.summary()"
      ],
      "execution_count": 36,
      "outputs": [
        {
          "output_type": "stream",
          "text": [
            "Model: \"sequential\"\n",
            "_________________________________________________________________\n",
            "Layer (type)                 Output Shape              Param #   \n",
            "=================================================================\n",
            "embedding (Embedding)        (None, 116, 50)           742450    \n",
            "_________________________________________________________________\n",
            "bidirectional (Bidirectional (None, 116, 20)           4880      \n",
            "_________________________________________________________________\n",
            "bidirectional_1 (Bidirection (None, 20)                2480      \n",
            "_________________________________________________________________\n",
            "dense (Dense)                (None, 120)               2520      \n",
            "_________________________________________________________________\n",
            "dense_1 (Dense)              (None, 1)                 121       \n",
            "_________________________________________________________________\n",
            "dense_2 (Dense)              (None, 240)               480       \n",
            "_________________________________________________________________\n",
            "dense_3 (Dense)              (None, 1)                 241       \n",
            "_________________________________________________________________\n",
            "dense_4 (Dense)              (None, 360)               720       \n",
            "_________________________________________________________________\n",
            "dense_5 (Dense)              (None, 1)                 361       \n",
            "=================================================================\n",
            "Total params: 754,253\n",
            "Trainable params: 754,253\n",
            "Non-trainable params: 0\n",
            "_________________________________________________________________\n"
          ],
          "name": "stdout"
        }
      ]
    },
    {
      "cell_type": "code",
      "metadata": {
        "colab": {
          "base_uri": "https://localhost:8080/"
        },
        "id": "x4zS1e66mhHJ",
        "outputId": "b2da802a-e234-4a0e-bc33-ff78795758d7"
      },
      "source": [
        "#compiling and fitting the model\r\n",
        "model.compile(optimizer='adam',loss='binary_crossentropy',metrics=['accuracy'])\r\n",
        "model_his=model.fit(X_tr, Y_tr, epochs = 50, batch_size = 987, validation_split=0.2, shuffle=True, verbose=True, callbacks=[early_stopping,model_save])"
      ],
      "execution_count": 37,
      "outputs": [
        {
          "output_type": "stream",
          "text": [
            "Epoch 1/50\n",
            "16/16 [==============================] - 18s 680ms/step - loss: 0.6865 - accuracy: 0.4974 - val_loss: 0.6094 - val_accuracy: 0.9018\n",
            "Epoch 2/50\n",
            "16/16 [==============================] - 9s 560ms/step - loss: 0.5919 - accuracy: 0.8943 - val_loss: 0.5255 - val_accuracy: 0.9018\n",
            "Epoch 3/50\n",
            "16/16 [==============================] - 9s 560ms/step - loss: 0.5165 - accuracy: 0.8946 - val_loss: 0.4593 - val_accuracy: 0.9018\n",
            "Epoch 4/50\n",
            "16/16 [==============================] - 9s 563ms/step - loss: 0.4580 - accuracy: 0.8974 - val_loss: 0.4319 - val_accuracy: 0.9018\n",
            "Epoch 5/50\n",
            "16/16 [==============================] - 9s 558ms/step - loss: 0.4454 - accuracy: 0.8960 - val_loss: 0.4275 - val_accuracy: 0.9018\n",
            "Epoch 6/50\n",
            "16/16 [==============================] - 9s 556ms/step - loss: 0.4394 - accuracy: 0.8981 - val_loss: 0.4250 - val_accuracy: 0.9018\n",
            "Epoch 7/50\n",
            "16/16 [==============================] - 9s 553ms/step - loss: 0.4383 - accuracy: 0.8968 - val_loss: 0.4242 - val_accuracy: 0.9018\n",
            "Epoch 8/50\n",
            "16/16 [==============================] - 9s 553ms/step - loss: 0.4415 - accuracy: 0.8948 - val_loss: 0.4232 - val_accuracy: 0.9018\n",
            "Epoch 9/50\n",
            "16/16 [==============================] - 9s 559ms/step - loss: 0.4366 - accuracy: 0.8970 - val_loss: 0.4217 - val_accuracy: 0.9018\n",
            "Epoch 10/50\n",
            "16/16 [==============================] - 9s 562ms/step - loss: 0.4448 - accuracy: 0.8929 - val_loss: 0.4119 - val_accuracy: 0.9018\n",
            "Epoch 11/50\n",
            "16/16 [==============================] - 9s 562ms/step - loss: 0.4187 - accuracy: 0.8988 - val_loss: 0.3989 - val_accuracy: 0.9018\n",
            "Epoch 12/50\n",
            "16/16 [==============================] - 9s 561ms/step - loss: 0.4080 - accuracy: 0.8977 - val_loss: 0.3924 - val_accuracy: 0.9018\n",
            "Epoch 13/50\n",
            "16/16 [==============================] - 9s 562ms/step - loss: 0.4096 - accuracy: 0.8958 - val_loss: 0.3884 - val_accuracy: 0.9018\n",
            "Epoch 14/50\n",
            "16/16 [==============================] - 9s 558ms/step - loss: 0.3935 - accuracy: 0.8993 - val_loss: 0.4107 - val_accuracy: 0.9018\n",
            "Epoch 15/50\n",
            "16/16 [==============================] - 9s 567ms/step - loss: 0.4342 - accuracy: 0.8945 - val_loss: 0.4133 - val_accuracy: 0.9018\n",
            "Epoch 16/50\n",
            "16/16 [==============================] - 9s 562ms/step - loss: 0.4275 - accuracy: 0.8956 - val_loss: 0.4128 - val_accuracy: 0.9018\n",
            "Epoch 17/50\n",
            "16/16 [==============================] - 9s 558ms/step - loss: 0.4352 - accuracy: 0.8950 - val_loss: 0.4121 - val_accuracy: 0.9018\n",
            "Epoch 18/50\n",
            "16/16 [==============================] - 9s 559ms/step - loss: 0.4301 - accuracy: 0.8950 - val_loss: 0.4111 - val_accuracy: 0.9018\n"
          ],
          "name": "stdout"
        }
      ]
    },
    {
      "cell_type": "code",
      "metadata": {
        "colab": {
          "base_uri": "https://localhost:8080/"
        },
        "id": "MRH6QvCTnGnH",
        "outputId": "ac93f084-9512-46b7-a3ad-aca438dfc370"
      },
      "source": [
        "#evaluating the model on the test data set\r\n",
        "print ('Loss=',model.evaluate(X_test,Y_test)[0])\r\n",
        "print ('Accuracy=',model.evaluate(X_test,Y_test)[1])"
      ],
      "execution_count": 39,
      "outputs": [
        {
          "output_type": "stream",
          "text": [
            "147/147 [==============================] - 3s 20ms/step - loss: 0.4266 - accuracy: 0.8961\n",
            "Loss= 0.426622211933136\n",
            "147/147 [==============================] - 3s 20ms/step - loss: 0.4266 - accuracy: 0.8961\n",
            "Accuracy= 0.8961260318756104\n"
          ],
          "name": "stdout"
        }
      ]
    }
  ]
}